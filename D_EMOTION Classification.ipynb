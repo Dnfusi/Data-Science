{
 "cells": [
  {
   "cell_type": "code",
   "execution_count": 1,
   "id": "4a91b6f8-be9c-45c2-949f-a67a07e81486",
   "metadata": {},
   "outputs": [],
   "source": [
    "# Machine Learning Library\n",
    "import pandas as pd\n",
    "import numpy as np\n",
    "import pickle\n",
    "import nltk\n",
    "import re\n",
    "from nltk.stem import PorterStemmer\n",
    "import seaborn as sns\n",
    "import matplotlib.pyplot as plt\n",
    "\n",
    "from sklearn.preprocessing import LabelEncoder\n",
    "plt.style.use('ggplot')"
   ]
  },
  {
   "cell_type": "code",
   "execution_count": 36,
   "id": "4afe5e82-1d26-46ff-99f0-0975cfbfdd9c",
   "metadata": {},
   "outputs": [
    {
     "name": "stdout",
     "output_type": "stream",
     "text": [
      "Requirement already satisfied: wordcloud in /Library/Frameworks/Python.framework/Versions/3.12/lib/python3.12/site-packages (1.9.3)\n",
      "Requirement already satisfied: numpy>=1.6.1 in /Library/Frameworks/Python.framework/Versions/3.12/lib/python3.12/site-packages (from wordcloud) (2.0.0)\n",
      "Requirement already satisfied: pillow in /Library/Frameworks/Python.framework/Versions/3.12/lib/python3.12/site-packages (from wordcloud) (10.4.0)\n",
      "Requirement already satisfied: matplotlib in /Library/Frameworks/Python.framework/Versions/3.12/lib/python3.12/site-packages (from wordcloud) (3.9.1)\n",
      "Requirement already satisfied: contourpy>=1.0.1 in /Library/Frameworks/Python.framework/Versions/3.12/lib/python3.12/site-packages (from matplotlib->wordcloud) (1.2.1)\n",
      "Requirement already satisfied: cycler>=0.10 in /Library/Frameworks/Python.framework/Versions/3.12/lib/python3.12/site-packages (from matplotlib->wordcloud) (0.12.1)\n",
      "Requirement already satisfied: fonttools>=4.22.0 in /Library/Frameworks/Python.framework/Versions/3.12/lib/python3.12/site-packages (from matplotlib->wordcloud) (4.53.1)\n",
      "Requirement already satisfied: kiwisolver>=1.3.1 in /Library/Frameworks/Python.framework/Versions/3.12/lib/python3.12/site-packages (from matplotlib->wordcloud) (1.4.5)\n",
      "Requirement already satisfied: packaging>=20.0 in /Library/Frameworks/Python.framework/Versions/3.12/lib/python3.12/site-packages (from matplotlib->wordcloud) (24.1)\n",
      "Requirement already satisfied: pyparsing>=2.3.1 in /Library/Frameworks/Python.framework/Versions/3.12/lib/python3.12/site-packages (from matplotlib->wordcloud) (3.1.2)\n",
      "Requirement already satisfied: python-dateutil>=2.7 in /Library/Frameworks/Python.framework/Versions/3.12/lib/python3.12/site-packages (from matplotlib->wordcloud) (2.9.0.post0)\n",
      "Requirement already satisfied: six>=1.5 in /Library/Frameworks/Python.framework/Versions/3.12/lib/python3.12/site-packages (from python-dateutil>=2.7->matplotlib->wordcloud) (1.16.0)\n"
     ]
    }
   ],
   "source": [
    "!pip install wordcloud"
   ]
  },
  {
   "cell_type": "code",
   "execution_count": 2,
   "id": "85dbb62b-d532-41d4-a8ab-49ff34845118",
   "metadata": {},
   "outputs": [
    {
     "name": "stderr",
     "output_type": "stream",
     "text": [
      "2024-08-12 10:27:31.640646: I tensorflow/core/platform/cpu_feature_guard.cc:210] This TensorFlow binary is optimized to use available CPU instructions in performance-critical operations.\n",
      "To enable the following instructions: AVX2 FMA, in other operations, rebuild TensorFlow with the appropriate compiler flags.\n"
     ]
    }
   ],
   "source": [
    "# Deep Learning Library\n",
    "from tensorflow.keras.models import Sequential\n",
    "from tensorflow.keras.layers import Embedding, LSTM, Dense, Dropout\n",
    "from tensorflow.keras.callbacks import EarlyStopping\n",
    "from tensorflow.keras.preprocessing.text import one_hot\n",
    "from tensorflow.keras.preprocessing.sequence import pad_sequences\n",
    "from tensorflow.keras.utils import to_categorical"
   ]
  },
  {
   "cell_type": "code",
   "execution_count": 3,
   "id": "d1f83417-fd6e-4e5c-a491-c7407afdc374",
   "metadata": {},
   "outputs": [
    {
     "name": "stdout",
     "output_type": "stream",
     "text": [
      "                                             Comment  Emotion\n",
      "0                            i didnt feel humiliated  sadness\n",
      "1  i can go from feeling so hopeless to so damned...  sadness\n",
      "2   im grabbing a minute to post i feel greedy wrong    anger\n",
      "3  i am ever feeling nostalgic about the fireplac...     love\n",
      "4                               i am feeling grouchy    anger\n"
     ]
    }
   ],
   "source": [
    "# Read the CSV file into a DataFrame\n",
    "train_data = pd.read_csv(\"train.txt\", header = None, sep=\";\", names=[\"Comment\", \"Emotion\"], encoding=\"utf-8\")\n",
    "\n",
    "# Display the first few rows of the DataFrame to verify\n",
    "print(train_data.head())"
   ]
  },
  {
   "cell_type": "code",
   "execution_count": 7,
   "id": "3aaee6a5-0fa7-4236-b2e8-ce65fcd1ce79",
   "metadata": {},
   "outputs": [
    {
     "data": {
      "text/plain": [
       "(16000, 2)"
      ]
     },
     "execution_count": 7,
     "metadata": {},
     "output_type": "execute_result"
    }
   ],
   "source": [
    "train_data.shape"
   ]
  },
  {
   "cell_type": "code",
   "execution_count": 9,
   "id": "ee967930-b436-4abf-9cb4-87f2ffb0f2e2",
   "metadata": {},
   "outputs": [
    {
     "data": {
      "text/plain": [
       "Comment    0\n",
       "Emotion    0\n",
       "dtype: int64"
      ]
     },
     "execution_count": 9,
     "metadata": {},
     "output_type": "execute_result"
    }
   ],
   "source": [
    "train_data.isnull().sum()"
   ]
  },
  {
   "cell_type": "code",
   "execution_count": 11,
   "id": "5b609caf-28f7-4f66-a3ed-1aefabf818f2",
   "metadata": {},
   "outputs": [
    {
     "data": {
      "text/plain": [
       "1"
      ]
     },
     "execution_count": 11,
     "metadata": {},
     "output_type": "execute_result"
    }
   ],
   "source": [
    "train_data.duplicated().sum()"
   ]
  },
  {
   "cell_type": "markdown",
   "id": "17b948f9-3bec-4dfb-848e-3a4decd1ea77",
   "metadata": {},
   "source": [
    "## EDA"
   ]
  },
  {
   "cell_type": "code",
   "execution_count": 14,
   "id": "ae4972fd-cbc1-4d99-b9a3-98a55ca3c4f7",
   "metadata": {},
   "outputs": [
    {
     "data": {
      "image/png": "[encoded data removed]",
      "text/plain": [
       "<Figure size 640x480 with 1 Axes>"
      ]
     },
     "metadata": {},
     "output_type": "display_data"
    }
   ],
   "source": [
    "sns.countplot(x=train_data['Emotion'])\n",
    "plt.show()"
   ]
  },
  {
   "cell_type": "code",
   "execution_count": 16,
   "id": "60bd2010-ec43-467a-bd3a-e665288e06fa",
   "metadata": {},
   "outputs": [
    {
     "name": "stderr",
     "output_type": "stream",
     "text": [
      "/opt/anaconda3/lib/python3.11/site-packages/seaborn/_oldcore.py:1119: FutureWarning: use_inf_as_na option is deprecated and will be removed in a future version. Convert inf values to NaN before operating instead.\n",
      "  with pd.option_context('mode.use_inf_as_na', True):\n"
     ]
    },
    {
     "data": {
      "image/png": "[encoded data removed]",
      "text/plain": [
       "<Figure size 640x480 with 1 Axes>"
      ]
     },
     "metadata": {},
     "output_type": "display_data"
    }
   ],
   "source": [
    "# Ctreate a copy of the train_data DataFrame\n",
    "\n",
    "df2 = train_data.copy()\n",
    "df2['length'] = [len(x) for x in train_data['Comment']]\n",
    "length_value = df2['length'].values\n",
    "sns.histplot(data=df2, x='length', hue='Emotion', multiple = 'stack')\n",
    "plt.show()"
   ]
  },
  {
   "cell_type": "markdown",
   "id": "5a7826fb-14cf-41b0-b629-708da24f7a49",
   "metadata": {},
   "source": [
    "## Data preprocessing\n",
    "Label Encoding: It transforms categorical labels into integer values. This is useful for algorithms that require numerical input or for improving the performance of certain models."
   ]
  },
  {
   "cell_type": "code",
   "execution_count": 19,
   "id": "2d91293b-6707-4eb6-88d0-b822043694bf",
   "metadata": {},
   "outputs": [
    {
     "name": "stdout",
     "output_type": "stream",
     "text": [
      "                                             Comment  Emotion\n",
      "0                            i didnt feel humiliated        4\n",
      "1  i can go from feeling so hopeless to so damned...        4\n",
      "2   im grabbing a minute to post i feel greedy wrong        0\n",
      "3  i am ever feeling nostalgic about the fireplac...        3\n",
      "4                               i am feeling grouchy        0\n"
     ]
    }
   ],
   "source": [
    "# Initialize the LabelEncoder\n",
    "lb = LabelEncoder()\n",
    "\n",
    "# fit and transform the 'Emotion' column to numerical values\n",
    "train_data['Emotion'] = lb.fit_transform(train_data['Emotion'])\n",
    "\n",
    "# Display the first few rows of the transformed DataFrame to verify\n",
    "print(train_data.head())"
   ]
  },
  {
   "cell_type": "markdown",
   "id": "6b82bbf3-2f47-45da-8e91-a85e0b6986ef",
   "metadata": {},
   "source": [
    "## train_test_split:\n",
    "\n",
    "Used for splitting a dataset into training and testing sets. CountVectorizer:\n",
    "\n",
    "Converts a collection of text documents to a matrix of token counts (bag-of-words representation). TfidfVectorizer:\n",
    "\n",
    "Converts a collection of text documents to a matrix of TF-IDF (Term Frequency-Inverse Document Frequency) features, which is a more informative representation than raw counts. MultinomialNB:\n",
    "\n",
    "Multinomial Naive Bayes classifier, suitable for classification with discrete features (like word counts for text classification). LogisticRegression:\n",
    "\n",
    "Logistic Regression classifier, useful for binary and multiclass classification tasks. RandomForestClassifier:\n",
    "\n",
    "Random Forest classifier, an ensemble learning method that operates by constructing multiple decision trees during training and outputting the mode of the classes (classification) or mean prediction (regression) of the individual trees. SVC:\n",
    "\n",
    "Support Vector Classifier, useful for classification tasks and can handle both linear and non-linear classification. accuracy_score:\n",
    "\n",
    "Function to compute the accuracy of the predictions. classification_report:\n",
    "\n",
    "Function to generate a detailed classification report, including precision, recall, F1-score, and support for each class."
   ]
  },
  {
   "cell_type": "code",
   "execution_count": 22,
   "id": "368fc211-2fef-4776-911d-1c59bacd7eb7",
   "metadata": {},
   "outputs": [],
   "source": [
    "from sklearn.model_selection import train_test_split\n",
    "from sklearn.feature_extraction.text import CountVectorizer, TfidfVectorizer\n",
    "from sklearn.naive_bayes import MultinomialNB\n",
    "from sklearn.linear_model import LogisticRegression\n",
    "from sklearn.ensemble import RandomForestClassifier\n",
    "from sklearn.svm import SVC\n",
    "from sklearn.metrics import accuracy_score, classification_report"
   ]
  },
  {
   "cell_type": "code",
   "execution_count": 24,
   "id": "d79ff41a-1140-482a-81c9-ad2e0391b437",
   "metadata": {},
   "outputs": [],
   "source": [
    "df = train_data.copy()"
   ]
  },
  {
   "cell_type": "code",
   "execution_count": 26,
   "id": "c00a4ec5-80ef-4b0d-8bac-f6c3f8a8074d",
   "metadata": {},
   "outputs": [
    {
     "data": {
      "text/html": [
       "<div>\n",
       "<style scoped>\n",
       "    .dataframe tbody tr th:only-of-type {\n",
       "        vertical-align: middle;\n",
       "    }\n",
       "\n",
       "    .dataframe tbody tr th {\n",
       "        vertical-align: top;\n",
       "    }\n",
       "\n",
       "    .dataframe thead th {\n",
       "        text-align: right;\n",
       "    }\n",
       "</style>\n",
       "<table border=\"1\" class=\"dataframe\">\n",
       "  <thead>\n",
       "    <tr style=\"text-align: right;\">\n",
       "      <th></th>\n",
       "      <th>Comment</th>\n",
       "      <th>Emotion</th>\n",
       "    </tr>\n",
       "  </thead>\n",
       "  <tbody>\n",
       "    <tr>\n",
       "      <th>0</th>\n",
       "      <td>i didnt feel humiliated</td>\n",
       "      <td>4</td>\n",
       "    </tr>\n",
       "    <tr>\n",
       "      <th>1</th>\n",
       "      <td>i can go from feeling so hopeless to so damned...</td>\n",
       "      <td>4</td>\n",
       "    </tr>\n",
       "    <tr>\n",
       "      <th>2</th>\n",
       "      <td>im grabbing a minute to post i feel greedy wrong</td>\n",
       "      <td>0</td>\n",
       "    </tr>\n",
       "    <tr>\n",
       "      <th>3</th>\n",
       "      <td>i am ever feeling nostalgic about the fireplac...</td>\n",
       "      <td>3</td>\n",
       "    </tr>\n",
       "    <tr>\n",
       "      <th>4</th>\n",
       "      <td>i am feeling grouchy</td>\n",
       "      <td>0</td>\n",
       "    </tr>\n",
       "  </tbody>\n",
       "</table>\n",
       "</div>"
      ],
      "text/plain": [
       "                                             Comment  Emotion\n",
       "0                            i didnt feel humiliated        4\n",
       "1  i can go from feeling so hopeless to so damned...        4\n",
       "2   im grabbing a minute to post i feel greedy wrong        0\n",
       "3  i am ever feeling nostalgic about the fireplac...        3\n",
       "4                               i am feeling grouchy        0"
      ]
     },
     "execution_count": 26,
     "metadata": {},
     "output_type": "execute_result"
    }
   ],
   "source": [
    "df.head()"
   ]
  },
  {
   "cell_type": "code",
   "execution_count": 28,
   "id": "677ee4e6-347d-4357-b5a4-1dc01210eb37",
   "metadata": {},
   "outputs": [],
   "source": [
    "\"\"\"tqdm to apply a progress bar to a text preprocessing function applied to a pandas DataFrame. This is useful for providing feedback during the execution of potentially time-consuming operations.\"\"\"\n",
    "import re\n",
    "import nltk\n",
    "from nltk.corpus import stopwords\n",
    "from nltk.stem import PorterStemmer\n",
    "from tqdm import tqdm"
   ]
  },
  {
   "cell_type": "code",
   "execution_count": 30,
   "id": "06b5248d-4d9e-414f-813d-d98f671c0bd0",
   "metadata": {},
   "outputs": [
    {
     "name": "stderr",
     "output_type": "stream",
     "text": [
      "[nltk_data] Downloading package stopwords to\n",
      "[nltk_data]     /Users/danielfusi/nltk_data...\n",
      "[nltk_data]   Package stopwords is already up-to-date!\n"
     ]
    }
   ],
   "source": [
    "# Enable Progress_apply with tqdm\n",
    "tqdm.pandas()\n",
    "\n",
    "# Dowload NLTK Stopwords\n",
    "nltk.download('stopwords')\n",
    "stopwords = (stopwords.words('english'))"
   ]
  },
  {
   "cell_type": "code",
   "execution_count": 32,
   "id": "0ec21cb0-747e-4031-aa6b-307865f70920",
   "metadata": {},
   "outputs": [
    {
     "name": "stderr",
     "output_type": "stream",
     "text": [
      "100%|███████████████████████████████████| 16000/16000 [00:02<00:00, 5592.58it/s]\n"
     ]
    }
   ],
   "source": [
    "# Define the text cleaning function\n",
    "def clean_data(text):\n",
    "    stemmer = PorterStemmer()\n",
    "    text = re.sub(\"[^a-zA-Z]\", \" \", text)  # Remove non-alphabetic characters\n",
    "    text = text.lower()  # Convert to lowercase\n",
    "    text = text.split()  # Split into words\n",
    "    text = [stemmer.stem(word) for word in text if word not in stopwords]  # Remove stopwords and apply stemming\n",
    "    return \" \".join(text)  # Join words back into a single string\n",
    "\n",
    "# Display the first few rows of the DataFrame to verify\n",
    "df['cleaned_comment']  = df['Comment'].progress_apply(clean_data)\n",
    "# df['cleaned_comment']  = df['Comment'].apply(clean_data) "
   ]
  },
  {
   "cell_type": "code",
   "execution_count": 50,
   "id": "51978bcd-18f3-4e49-99ac-64feabbac972",
   "metadata": {},
   "outputs": [],
   "source": [
    "# split the dataset into training and testing sets\n",
    "\n",
    "X_train, X_test, y_train, y_test = train_test_split(df['cleaned_comment'], df['Emotion'], test_size = 0.2, random_state=42)"
   ]
  },
  {
   "cell_type": "code",
   "execution_count": 52,
   "id": "07c46e3d-5e5f-4333-bed9-41471308e251",
   "metadata": {},
   "outputs": [],
   "source": [
    "# Vectorize the test data using TfidfVectorizer\n",
    "tfidfvectorizer = TfidfVectorizer()\n",
    "X_train_tfidf = tfidfvectorizer.fit_transform(X_train)\n",
    "X_test_tfidf = tfidfvectorizer.transform(X_test)"
   ]
  },
  {
   "cell_type": "code",
   "execution_count": 54,
   "id": "368d01f3-0bee-453b-a75c-27c1e9d51bd6",
   "metadata": {},
   "outputs": [
    {
     "data": {
      "text/plain": [
       "(12800, 9257)"
      ]
     },
     "execution_count": 54,
     "metadata": {},
     "output_type": "execute_result"
    }
   ],
   "source": [
    "X_train_tfidf.shape"
   ]
  },
  {
   "cell_type": "code",
   "execution_count": 66,
   "id": "8acc30da-7f6b-40fc-9fde-0877f54f0221",
   "metadata": {},
   "outputs": [
    {
     "name": "stdout",
     "output_type": "stream",
     "text": [
      "\n",
      "============MultinomialNB============\n",
      "=======0.655============\n",
      "Classification Report\n",
      "              precision    recall  f1-score   support\n",
      "\n",
      "           0       0.93      0.31      0.46       427\n",
      "           1       0.91      0.24      0.38       397\n",
      "           2       0.58      0.98      0.73      1021\n",
      "           3       1.00      0.03      0.06       296\n",
      "           4       0.70      0.91      0.79       946\n",
      "           5       1.00      0.01      0.02       113\n",
      "\n",
      "    accuracy                           0.66      3200\n",
      "   macro avg       0.85      0.41      0.41      3200\n",
      "weighted avg       0.76      0.66      0.58      3200\n",
      "\n",
      "\n",
      "============LogisticRegression============\n",
      "=======0.829375============\n",
      "Classification Report\n",
      "              precision    recall  f1-score   support\n",
      "\n",
      "           0       0.88      0.79      0.83       427\n",
      "           1       0.84      0.73      0.78       397\n",
      "           2       0.78      0.94      0.85      1021\n",
      "           3       0.80      0.49      0.61       296\n",
      "           4       0.88      0.92      0.90       946\n",
      "           5       0.77      0.45      0.57       113\n",
      "\n",
      "    accuracy                           0.83      3200\n",
      "   macro avg       0.82      0.72      0.76      3200\n",
      "weighted avg       0.83      0.83      0.82      3200\n",
      "\n",
      "\n",
      "============Random Forest============\n",
      "=======0.8475============\n",
      "Classification Report\n",
      "              precision    recall  f1-score   support\n",
      "\n",
      "           0       0.80      0.85      0.83       427\n",
      "           1       0.83      0.83      0.83       397\n",
      "           2       0.84      0.90      0.87      1021\n",
      "           3       0.80      0.64      0.71       296\n",
      "           4       0.91      0.88      0.90       946\n",
      "           5       0.71      0.65      0.68       113\n",
      "\n",
      "    accuracy                           0.85      3200\n",
      "   macro avg       0.82      0.79      0.80      3200\n",
      "weighted avg       0.85      0.85      0.85      3200\n",
      "\n",
      "\n",
      "============Support Vector Machine============\n",
      "=======0.8190625============\n",
      "Classification Report\n",
      "              precision    recall  f1-score   support\n",
      "\n",
      "           0       0.86      0.79      0.83       427\n",
      "           1       0.84      0.71      0.77       397\n",
      "           2       0.76      0.93      0.84      1021\n",
      "           3       0.81      0.45      0.58       296\n",
      "           4       0.88      0.91      0.89       946\n",
      "           5       0.79      0.47      0.59       113\n",
      "\n",
      "    accuracy                           0.82      3200\n",
      "   macro avg       0.82      0.71      0.75      3200\n",
      "weighted avg       0.82      0.82      0.81      3200\n",
      "\n"
     ]
    }
   ],
   "source": [
    "classifier={\n",
    "    'MultinomialNB':MultinomialNB(),\n",
    "    'LogisticRegression':LogisticRegression(),\n",
    "    'Random Forest':RandomForestClassifier(),\n",
    "    'Support Vector Machine': SVC(),\n",
    "}\n",
    "\n",
    "for name,clf in classifier.items():\n",
    "    print(f\"\\n============{name}============\")\n",
    "    clf.fit(X_train_tfidf, y_train)\n",
    "    y_pred_tfidf = clf.predict(X_test_tfidf)\n",
    "    accuracy_tfidf = accuracy_score(y_test, y_pred_tfidf)\n",
    "    print(f\"======={accuracy_tfidf}============\")\n",
    "    print(\"Classification Report\")\n",
    "    print(classification_report(y_test, y_pred_tfidf))"
   ]
  },
  {
   "cell_type": "code",
   "execution_count": 68,
   "id": "0f4a903f-70a2-4518-8d74-e5389325adbf",
   "metadata": {},
   "outputs": [],
   "source": [
    "lg = LogisticRegression()\n",
    "lg.fit(X_train_tfidf, y_train)\n",
    "lg_y_pred = lg.predict(X_test_tfidf)"
   ]
  },
  {
   "cell_type": "code",
   "execution_count": 94,
   "id": "96a9dfd1-2e32-4348-a7f8-52af7137558b",
   "metadata": {},
   "outputs": [],
   "source": [
    "def predict_emotion(input_text):\n",
    "    cleaned_text = clean_data(input_text)\n",
    "    input_vectorizer = tfidfvectorizer.transform([cleaned_text])\n",
    "\n",
    "    predicted_label = lg.predict(input_vectorizer)[0]\n",
    "    predicted_emotion = lb.inverse_transform([predicted_label])[0]\n",
    "    label = np.max(lg.predict(input_vectorizer))\n",
    "\n",
    "    return predicted_emotion, label"
   ]
  },
  {
   "cell_type": "code",
   "execution_count": 96,
   "id": "8ee7d9c2-51dc-4bc8-a5ed-51f0c867e0be",
   "metadata": {},
   "outputs": [
    {
     "name": "stdout",
     "output_type": "stream",
     "text": [
      "Predicted Emotion: ('joy', 2)\n"
     ]
    }
   ],
   "source": [
    "# Example Usage\n",
    "\n",
    "input_text = \"I feel so happy today!\"\n",
    "predicted_emotion = predict_emotion(input_text)\n",
    "print(\"Predicted Emotion:\", predicted_emotion)"
   ]
  },
  {
   "cell_type": "markdown",
   "id": "31d731eb-2d65-4412-bd0d-8f1e024a030a",
   "metadata": {},
   "source": [
    "# APPLYING DEEP LEARNING USING LSTM(LONG SHORT TERM MEMORY)"
   ]
  },
  {
   "cell_type": "code",
   "execution_count": 164,
   "id": "8eaa52c7-b275-4368-8ad5-96753ca25166",
   "metadata": {},
   "outputs": [],
   "source": [
    "import pickle\n",
    "pickle.dump(lg, open(\"logistic_regression.pkl\",\"wb\"))\n",
    "pickle.dump(lb, open(\"label_encode.pkl\",\"wb\"))\n",
    "pickle.dump(tfidfvectorizer, open(\"tfidfvectorizer.pkl\",\"wb\"))"
   ]
  },
  {
   "cell_type": "markdown",
   "id": "0b08778f-25e8-4d34-b269-c407ce092d96",
   "metadata": {},
   "source": [
    "### Word Encoding:\n",
    "\n",
    "- It performs one-hot encoding for each word in the corpus using a vocabulary size of vocab_size.\n",
    "- The one_hot function (presumably from Keras) is used for one-hot encoding.\n",
    "- Each word in the corpus is converted to a list of integers representing its one-hot encoded vector.\n",
    "\n",
    "### Padding Sequences:\n",
    "\n",
    "- It pads the one-hot encoded sequences to have a fixed length of max_len.\n",
    "- The pad_sequences function (presumably from Keras) is used for padding.\n",
    "- Sequences are padded with zeros at the beginning (padding=\"pre\")."
   ]
  },
  {
   "cell_type": "code",
   "execution_count": 116,
   "id": "fd47f23e-23cb-450f-aa2f-320028c484cf",
   "metadata": {},
   "outputs": [],
   "source": [
    "def text_cleaning(df, column, vocab_size, max_len):\n",
    "    stemmer = PorterStemmer()\n",
    "    corpus = []\n",
    "    for text in df[column]:\n",
    "        # Clean the text\n",
    "        text = re.sub(\"[^a-zA-Z]\", \" \", text)\n",
    "        text = text.lower()\n",
    "        text = text.split()\n",
    "        text = [stemmer.stem(word) for word in text if word not in stopwords]\n",
    "        text = \" \".join(text)\n",
    "        corpus.append(text)\n",
    "    \n",
    "    # One-hot encode the words in the corpus\n",
    "    one_hot_word = [one_hot(input_text=word, n=vocab_size) for word in corpus]\n",
    "    \n",
    "    # Pad the sequences to have a fixed length\n",
    "    pad = pad_sequences(sequences=one_hot_word, maxlen=max_len, padding=\"pre\")\n",
    "    \n",
    "    return pad"
   ]
  },
  {
   "cell_type": "code",
   "execution_count": 118,
   "id": "7d2cee0a-4acd-4238-948f-26c7d4953af4",
   "metadata": {},
   "outputs": [],
   "source": [
    "# Preprocess the text data\n",
    "x_train = text_cleaning(train_data, \"Comment\", vocab_size=11000, max_len=300)\n",
    "\n",
    "# Prepare the labels using one-hot encoding\n",
    "y_train = to_categorical(train_data[\"Emotion\"])"
   ]
  },
  {
   "cell_type": "code",
   "execution_count": 124,
   "id": "02c99e86-ea23-4092-94f0-ec4feb1d9b55",
   "metadata": {},
   "outputs": [
    {
     "name": "stderr",
     "output_type": "stream",
     "text": [
      "/opt/anaconda3/lib/python3.11/site-packages/keras/src/layers/core/embedding.py:90: UserWarning: Argument `input_length` is deprecated. Just remove it.\n",
      "  warnings.warn(\n"
     ]
    },
    {
     "name": "stdout",
     "output_type": "stream",
     "text": [
      "\u001b[1m250/250\u001b[0m \u001b[32m━━━━━━━━━━━━━━━━━━━━\u001b[0m\u001b[37m\u001b[0m \u001b[1m61s\u001b[0m 236ms/step - accuracy: 0.3320 - loss: 1.6271\n"
     ]
    },
    {
     "name": "stderr",
     "output_type": "stream",
     "text": [
      "/opt/anaconda3/lib/python3.11/site-packages/keras/src/callbacks/early_stopping.py:155: UserWarning: Early stopping conditioned on metric `val_loss` which is not available. Available metrics are: accuracy,loss\n",
      "  current = self.get_monitor_value(logs)\n"
     ]
    },
    {
     "data": {
      "text/plain": [
       "<keras.src.callbacks.history.History at 0x17a196e10>"
      ]
     },
     "execution_count": 124,
     "metadata": {},
     "output_type": "execute_result"
    }
   ],
   "source": [
    "# LSTM-Based neural network model using keras.\n",
    "\n",
    "model = Sequential()\n",
    "model.add(Embedding(input_dim = 11000, output_dim = 150, input_length = 300))\n",
    "model.add(Dropout(0.2))\n",
    "model.add(LSTM(128))\n",
    "model.add(Dropout(0.2))\n",
    "model.add(Dense(64, activation = 'sigmoid'))\n",
    "model.add(Dropout(0.2))\n",
    "model.add(Dense(6, activation = 'softmax'))\n",
    "model.compile(optimizer='adam', loss = \"categorical_crossentropy\", metrics=['accuracy'])\n",
    "\n",
    "callback = EarlyStopping(monitor=\"val_loss\", patience=2, restore_best_weights=True)\n",
    "model.fit(x_train, y_train, epochs = 1, batch_size = 64, verbose = 1, callbacks=[callback])"
   ]
  },
  {
   "cell_type": "markdown",
   "id": "0859c24e-cb2e-44f5-a20a-0b51c6445ca0",
   "metadata": {},
   "source": [
    "#### Embedding Layer: \n",
    "This layer converts integer indices representing words into dense vectors of fixed size (output_dim). The input_length parameter specifies the length of input sequences.\n",
    "\n",
    "#### Dropout Layers: \n",
    "Dropout is a regularization technique used to prevent overfitting by randomly setting a fraction of input units to zero during training.\n",
    "\n",
    "#### LSTM Layer: \n",
    "Long Short-Term Memory (LSTM) is a type of recurrent neural network (RNN) architecture designed to learn long-term dependencies in sequential data. The LSTM layer has 128 units.\n",
    "\n",
    "#### Dense Layers: \n",
    "These fully connected layers introduce non-linearity to the model. The first dense layer has 64 units with a sigmoid activation function, followed by a dropout layer. The second dense layer has 6 units (assuming it's a multi-class classification problem) with a softmax activation function to output class probabilities.\n",
    "\n",
    "#### Compilation: \n",
    "The model is compiled with the Adam optimizer and categorical crossentropy loss function, suitable for multi-class classification. Accuracy is used as a metric to monitor during training.\n",
    "\n",
    "#### Early Stopping Callback: \n",
    "The training process includes an early stopping callback, which monitors validation loss and stops training if the loss does not improve for a certain number of epochs (patience), restoring the best weights."
   ]
  },
  {
   "cell_type": "code",
   "execution_count": 128,
   "id": "235d6383-eb50-4ca7-bb65-a7e40b10ed00",
   "metadata": {},
   "outputs": [
    {
     "name": "stderr",
     "output_type": "stream",
     "text": [
      "WARNING:absl:You are saving your model as an HDF5 file via `model.save()` or `keras.saving.save_model(model)`. This file format is considered legacy. We recommend using instead the native Keras format, e.g. `model.save('my_model.keras')` or `keras.saving.save_model(model, 'my_model.keras')`. \n"
     ]
    }
   ],
   "source": [
    "model.save(\"model.h5\")"
   ]
  },
  {
   "cell_type": "code",
   "execution_count": 158,
   "id": "54a56deb-605f-4097-b63a-db395701d0dd",
   "metadata": {},
   "outputs": [],
   "source": [
    "def predictive_system_dl(sentence):\n",
    "    stemmer = PorterStemmer()\n",
    "    corpus = []\n",
    "    text = re.sub(\"[^a-zA-Z]\", \" \",sentence)\n",
    "    text = text.lower()\n",
    "    text = text.split()\n",
    "    text = [stemmer.stem(word) for word in text if word not in stopwords]\n",
    "    text = \" \".join(text)\n",
    "    corpus.append(text)\n",
    "    one_hot_word = [one_hot(input_text=word, n=11000) for word in corpus]\n",
    "    pad = pad_sequences(sequences=one_hot_word, maxlen=300, padding=\"pre\")\n",
    "    return pad"
   ]
  },
  {
   "cell_type": "code",
   "execution_count": 162,
   "id": "b008af21-7479-494f-8d25-8ea68d4c0543",
   "metadata": {},
   "outputs": [
    {
     "name": "stdout",
     "output_type": "stream",
     "text": [
      "\u001b[1m1/1\u001b[0m \u001b[32m━━━━━━━━━━━━━━━━━━━━\u001b[0m\u001b[37m\u001b[0m \u001b[1m0s\u001b[0m 36ms/step\n",
      "sadness with probability of 0.6218442916870117\n"
     ]
    }
   ],
   "source": [
    "# Preprocess input text\n",
    "cleaned_sentence = predictive_system_dl(\"I am feeling sad\")\n",
    "\n",
    "# Make prediction\n",
    "predicted_probabilities = model.predict(cleaned_sentence)\n",
    "\n",
    "# Get predicted class index and probability\n",
    "predicted_index = np.argmax(predicted_probabilities)\n",
    "predicted_probability = np.max(predicted_probabilities)\n",
    "\n",
    "# Map predicted index to emotion label\n",
    "predicted_emotion = lb.inverse_transform([predicted_index])[0]\n",
    "\n",
    "# Print result\n",
    "print(f\"{predicted_emotion} with probability of {predicted_probability}\")"
   ]
  },
  {
   "cell_type": "code",
   "execution_count": 172,
   "id": "16c296bb-ff6b-404d-accc-72455caa24db",
   "metadata": {},
   "outputs": [],
   "source": [
    "import pickle\n",
    "\n",
    "# save the label ecoder\n",
    "with open(\"lbl.pkl\", \"wb\") as f:\n",
    "    pickle.dump(lb, f)\n",
    "\n",
    "# save vocabulary information\n",
    "vocab_info = {\"vocab_size\": 11000, \"max_len\": 300}\n",
    "with open(\"vocab_info.pkl\", \"wb\") as f:\n",
    "    pickle.dump(vocab_info, f)"
   ]
  },
  {
   "cell_type": "markdown",
   "id": "f4c2e1a3-3d66-4fd9-a75b-cf3cc4340059",
   "metadata": {},
   "source": [
    "\"lb1.pkl\" containing the label encoder (Lb).\n",
    "\n",
    "\"vocab_info.pkl\" containg the vocabulary information dictionary(vocab_info)."
   ]
  },
  {
   "cell_type": "code",
   "execution_count": null,
   "id": "c6424173-415a-4fe5-942b-758e735e664a",
   "metadata": {},
   "outputs": [],
   "source": []
  }
 ],
 "metadata": {
  "kernelspec": {
   "display_name": "Python 3 (ipykernel)",
   "language": "python",
   "name": "python3"
  },
  "language_info": {
   "codemirror_mode": {
    "name": "ipython",
    "version": 3
   },
   "file_extension": ".py",
   "mimetype": "text/x-python",
   "name": "python",
   "nbconvert_exporter": "python",
   "pygments_lexer": "ipython3",
   "version": "3.11.7"
  }
 },
 "nbformat": 4,
 "nbformat_minor": 5
}
